{
 "cells": [
  
  {
   "cell_type": "markdown",
   "metadata": {},
   "source": [
    "# <b> Plantão de dúvidas </b>"
    "Código desenvolvido no plantão de dúvidas do dia 28/10 para sanar algumas dúvidas referentes à manipulação de dataframes com a biblioteca pandas, utilizando para isso uma amostra de dados obtida da plataforma da Bloomberg"
   ]
  },
  
  {
   "cell_type": "code",
   "execution_count": 2,
   "metadata": {},
   "outputs": [],
   "source": [
    "import os"
   ]
  },
  {
   "cell_type": "code",
   "execution_count": 3,
   "metadata": {},
   "outputs": [
    {
     "data": {
      "text/plain": [
       "'C:\\\\Users\\\\victo'"
      ]
     },
     "execution_count": 3,
     "metadata": {},
     "output_type": "execute_result"
    }
   ],
   "source": [
    "os.getcwd()"
   ]
  },
  {
   "cell_type": "markdown",
   "metadata": {},
   "source": [
    "# 1. Abertura do arquivo"
   ]
  },
  {
   "cell_type": "code",
   "execution_count": 4,
   "metadata": {},
   "outputs": [],
   "source": [
    "import pandas as pd"
   ]
  },
  {
   "cell_type": "markdown",
   "metadata": {},
   "source": [
    "# 1.1. Alternativas para abertura do .csv"
   ]
  },
  {
   "cell_type": "markdown",
   "metadata": {},
   "source": [
    "### a. Colocar o caminho inteiro (extensão) do arquivo, caso não tenhamos configurado um novo diretório de trabalho"
   ]
  },
  {
   "cell_type": "code",
   "execution_count": 16,
   "metadata": {},
   "outputs": [],
   "source": [
    "dados = pd.read_csv('C:\\\\Users\\\\victo\\\\source\\\\Indices US (.csv).csv', sep = ',', decimal = '.')"
   ]
  },
  {
   "cell_type": "code",
   "execution_count": 17,
   "metadata": {},
   "outputs": [
    {
     "data": {
      "text/html": [
       "<div>\n",
       "<style scoped>\n",
       "    .dataframe tbody tr th:only-of-type {\n",
       "        vertical-align: middle;\n",
       "    }\n",
       "\n",
       "    .dataframe tbody tr th {\n",
       "        vertical-align: top;\n",
       "    }\n",
       "\n",
       "    .dataframe thead th {\n",
       "        text-align: right;\n",
       "    }\n",
       "</style>\n",
       "<table border=\"1\" class=\"dataframe\">\n",
       "  <thead>\n",
       "    <tr style=\"text-align: right;\">\n",
       "      <th></th>\n",
       "      <th>Dates</th>\n",
       "      <th>SPXT Index</th>\n",
       "      <th>RLG Index</th>\n",
       "    </tr>\n",
       "  </thead>\n",
       "  <tbody>\n",
       "    <tr>\n",
       "      <th>0</th>\n",
       "      <td>31-12-2009</td>\n",
       "      <td>1837.50</td>\n",
       "      <td>500.223</td>\n",
       "    </tr>\n",
       "    <tr>\n",
       "      <th>1</th>\n",
       "      <td>01-01-2010</td>\n",
       "      <td>1837.50</td>\n",
       "      <td>500.223</td>\n",
       "    </tr>\n",
       "    <tr>\n",
       "      <th>2</th>\n",
       "      <td>04-01-2010</td>\n",
       "      <td>1867.06</td>\n",
       "      <td>507.029</td>\n",
       "    </tr>\n",
       "    <tr>\n",
       "      <th>3</th>\n",
       "      <td>05-01-2010</td>\n",
       "      <td>1872.90</td>\n",
       "      <td>507.288</td>\n",
       "    </tr>\n",
       "    <tr>\n",
       "      <th>4</th>\n",
       "      <td>06-01-2010</td>\n",
       "      <td>1874.73</td>\n",
       "      <td>506.825</td>\n",
       "    </tr>\n",
       "  </tbody>\n",
       "</table>\n",
       "</div>"
      ],
      "text/plain": [
       "        Dates  SPXT Index  RLG Index\n",
       "0  31-12-2009     1837.50    500.223\n",
       "1  01-01-2010     1837.50    500.223\n",
       "2  04-01-2010     1867.06    507.029\n",
       "3  05-01-2010     1872.90    507.288\n",
       "4  06-01-2010     1874.73    506.825"
      ]
     },
     "execution_count": 17,
     "metadata": {},
     "output_type": "execute_result"
    }
   ],
   "source": [
    "dados.head()"
   ]
  },
  {
   "cell_type": "markdown",
   "metadata": {},
   "source": [
    "### b. Alterando o próprio diretório de trabalho"
   ]
  },
  {
   "cell_type": "code",
   "execution_count": 18,
   "metadata": {},
   "outputs": [],
   "source": [
    "os.chdir('C:\\\\Users\\\\victo\\\\source')"
   ]
  },
  {
   "cell_type": "code",
   "execution_count": 19,
   "metadata": {},
   "outputs": [
    {
     "data": {
      "text/plain": [
       "'C:\\\\Users\\\\victo\\\\source'"
      ]
     },
     "execution_count": 19,
     "metadata": {},
     "output_type": "execute_result"
    }
   ],
   "source": [
    "os.getcwd()"
   ]
  },
  {
   "cell_type": "code",
   "execution_count": 20,
   "metadata": {},
   "outputs": [],
   "source": [
    "dados_2 = pd.read_csv('Indices US (.csv).csv')"
   ]
  },
  {
   "cell_type": "code",
   "execution_count": 21,
   "metadata": {},
   "outputs": [
    {
     "data": {
      "text/html": [
       "<div>\n",
       "<style scoped>\n",
       "    .dataframe tbody tr th:only-of-type {\n",
       "        vertical-align: middle;\n",
       "    }\n",
       "\n",
       "    .dataframe tbody tr th {\n",
       "        vertical-align: top;\n",
       "    }\n",
       "\n",
       "    .dataframe thead th {\n",
       "        text-align: right;\n",
       "    }\n",
       "</style>\n",
       "<table border=\"1\" class=\"dataframe\">\n",
       "  <thead>\n",
       "    <tr style=\"text-align: right;\">\n",
       "      <th></th>\n",
       "      <th>Dates</th>\n",
       "      <th>SPXT Index</th>\n",
       "      <th>RLG Index</th>\n",
       "    </tr>\n",
       "  </thead>\n",
       "  <tbody>\n",
       "    <tr>\n",
       "      <th>0</th>\n",
       "      <td>31-12-2009</td>\n",
       "      <td>1837.50</td>\n",
       "      <td>500.223</td>\n",
       "    </tr>\n",
       "    <tr>\n",
       "      <th>1</th>\n",
       "      <td>01-01-2010</td>\n",
       "      <td>1837.50</td>\n",
       "      <td>500.223</td>\n",
       "    </tr>\n",
       "    <tr>\n",
       "      <th>2</th>\n",
       "      <td>04-01-2010</td>\n",
       "      <td>1867.06</td>\n",
       "      <td>507.029</td>\n",
       "    </tr>\n",
       "    <tr>\n",
       "      <th>3</th>\n",
       "      <td>05-01-2010</td>\n",
       "      <td>1872.90</td>\n",
       "      <td>507.288</td>\n",
       "    </tr>\n",
       "    <tr>\n",
       "      <th>4</th>\n",
       "      <td>06-01-2010</td>\n",
       "      <td>1874.73</td>\n",
       "      <td>506.825</td>\n",
       "    </tr>\n",
       "  </tbody>\n",
       "</table>\n",
       "</div>"
      ],
      "text/plain": [
       "        Dates  SPXT Index  RLG Index\n",
       "0  31-12-2009     1837.50    500.223\n",
       "1  01-01-2010     1837.50    500.223\n",
       "2  04-01-2010     1867.06    507.029\n",
       "3  05-01-2010     1872.90    507.288\n",
       "4  06-01-2010     1874.73    506.825"
      ]
     },
     "execution_count": 21,
     "metadata": {},
     "output_type": "execute_result"
    }
   ],
   "source": [
    "dados_2.head()"
   ]
  },
  {
   "cell_type": "code",
   "execution_count": 25,
   "metadata": {},
   "outputs": [
    {
     "data": {
      "text/plain": [
       "Dates          object\n",
       "SPXT Index    float64\n",
       "RLG Index     float64\n",
       "dtype: object"
      ]
     },
     "execution_count": 25,
     "metadata": {},
     "output_type": "execute_result"
    }
   ],
   "source": [
    "dados_2.dtypes"
   ]
  },
  {
   "cell_type": "code",
   "execution_count": 38,
   "metadata": {},
   "outputs": [
    {
     "data": {
      "text/plain": [
       "0       31-12-2009\n",
       "1       01-01-2010\n",
       "2       04-01-2010\n",
       "3       05-01-2010\n",
       "4       06-01-2010\n",
       "           ...    \n",
       "3082    25-10-2021\n",
       "3083    26-10-2021\n",
       "3084    27-10-2021\n",
       "3085    28-10-2021\n",
       "3086    29-10-2021\n",
       "Name: Dates, Length: 3087, dtype: object"
      ]
     },
     "execution_count": 38,
     "metadata": {},
     "output_type": "execute_result"
    }
   ],
   "source": [
    "dados_2.Dates"
   ]
  },
  {
   "cell_type": "code",
   "execution_count": 39,
   "metadata": {},
   "outputs": [],
   "source": [
    "dados_2.Dates = pd.to_datetime(dados_2.Dates)"
   ]
  },
  {
   "cell_type": "code",
   "execution_count": 40,
   "metadata": {},
   "outputs": [
    {
     "data": {
      "text/html": [
       "<div>\n",
       "<style scoped>\n",
       "    .dataframe tbody tr th:only-of-type {\n",
       "        vertical-align: middle;\n",
       "    }\n",
       "\n",
       "    .dataframe tbody tr th {\n",
       "        vertical-align: top;\n",
       "    }\n",
       "\n",
       "    .dataframe thead th {\n",
       "        text-align: right;\n",
       "    }\n",
       "</style>\n",
       "<table border=\"1\" class=\"dataframe\">\n",
       "  <thead>\n",
       "    <tr style=\"text-align: right;\">\n",
       "      <th></th>\n",
       "      <th>Dates</th>\n",
       "      <th>SPXT Index</th>\n",
       "      <th>RLG Index</th>\n",
       "    </tr>\n",
       "  </thead>\n",
       "  <tbody>\n",
       "    <tr>\n",
       "      <th>0</th>\n",
       "      <td>2009-12-31</td>\n",
       "      <td>1837.50</td>\n",
       "      <td>500.223</td>\n",
       "    </tr>\n",
       "    <tr>\n",
       "      <th>1</th>\n",
       "      <td>2010-01-01</td>\n",
       "      <td>1837.50</td>\n",
       "      <td>500.223</td>\n",
       "    </tr>\n",
       "    <tr>\n",
       "      <th>2</th>\n",
       "      <td>2010-04-01</td>\n",
       "      <td>1867.06</td>\n",
       "      <td>507.029</td>\n",
       "    </tr>\n",
       "    <tr>\n",
       "      <th>3</th>\n",
       "      <td>2010-05-01</td>\n",
       "      <td>1872.90</td>\n",
       "      <td>507.288</td>\n",
       "    </tr>\n",
       "    <tr>\n",
       "      <th>4</th>\n",
       "      <td>2010-06-01</td>\n",
       "      <td>1874.73</td>\n",
       "      <td>506.825</td>\n",
       "    </tr>\n",
       "  </tbody>\n",
       "</table>\n",
       "</div>"
      ],
      "text/plain": [
       "       Dates  SPXT Index  RLG Index\n",
       "0 2009-12-31     1837.50    500.223\n",
       "1 2010-01-01     1837.50    500.223\n",
       "2 2010-04-01     1867.06    507.029\n",
       "3 2010-05-01     1872.90    507.288\n",
       "4 2010-06-01     1874.73    506.825"
      ]
     },
     "execution_count": 40,
     "metadata": {},
     "output_type": "execute_result"
    }
   ],
   "source": [
    "dados_2.head()"
   ]
  },
  {
   "cell_type": "code",
   "execution_count": 41,
   "metadata": {},
   "outputs": [
    {
     "data": {
      "text/plain": [
       "Dates         2010-04-01 00:00:00\n",
       "SPXT Index                1867.06\n",
       "RLG Index                 507.029\n",
       "Name: 2, dtype: object"
      ]
     },
     "execution_count": 41,
     "metadata": {},
     "output_type": "execute_result"
    }
   ],
   "source": [
    "dados_2.iloc[2]"
   ]
  },
  {
   "cell_type": "code",
   "execution_count": 42,
   "metadata": {},
   "outputs": [
    {
     "data": {
      "image/png": "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\n",
      "text/plain": [
       "<Figure size 432x288 with 1 Axes>"
      ]
     },
     "metadata": {
      "needs_background": "light"
     },
     "output_type": "display_data"
    }
   ],
   "source": [
    "dados_2.plot();"
   ]
  },
  {
   "cell_type": "code",
   "execution_count": 44,
   "metadata": {},
   "outputs": [],
   "source": [
    "dados_2.index = dados_2.Dates"
   ]
  },
  {
   "cell_type": "code",
   "execution_count": 45,
   "metadata": {},
   "outputs": [
    {
     "data": {
      "text/html": [
       "<div>\n",
       "<style scoped>\n",
       "    .dataframe tbody tr th:only-of-type {\n",
       "        vertical-align: middle;\n",
       "    }\n",
       "\n",
       "    .dataframe tbody tr th {\n",
       "        vertical-align: top;\n",
       "    }\n",
       "\n",
       "    .dataframe thead th {\n",
       "        text-align: right;\n",
       "    }\n",
       "</style>\n",
       "<table border=\"1\" class=\"dataframe\">\n",
       "  <thead>\n",
       "    <tr style=\"text-align: right;\">\n",
       "      <th></th>\n",
       "      <th>Dates</th>\n",
       "      <th>SPXT Index</th>\n",
       "      <th>RLG Index</th>\n",
       "    </tr>\n",
       "    <tr>\n",
       "      <th>Dates</th>\n",
       "      <th></th>\n",
       "      <th></th>\n",
       "      <th></th>\n",
       "    </tr>\n",
       "  </thead>\n",
       "  <tbody>\n",
       "    <tr>\n",
       "      <th>2009-12-31</th>\n",
       "      <td>2009-12-31</td>\n",
       "      <td>1837.50</td>\n",
       "      <td>500.223</td>\n",
       "    </tr>\n",
       "    <tr>\n",
       "      <th>2010-01-01</th>\n",
       "      <td>2010-01-01</td>\n",
       "      <td>1837.50</td>\n",
       "      <td>500.223</td>\n",
       "    </tr>\n",
       "    <tr>\n",
       "      <th>2010-04-01</th>\n",
       "      <td>2010-04-01</td>\n",
       "      <td>1867.06</td>\n",
       "      <td>507.029</td>\n",
       "    </tr>\n",
       "    <tr>\n",
       "      <th>2010-05-01</th>\n",
       "      <td>2010-05-01</td>\n",
       "      <td>1872.90</td>\n",
       "      <td>507.288</td>\n",
       "    </tr>\n",
       "    <tr>\n",
       "      <th>2010-06-01</th>\n",
       "      <td>2010-06-01</td>\n",
       "      <td>1874.73</td>\n",
       "      <td>506.825</td>\n",
       "    </tr>\n",
       "  </tbody>\n",
       "</table>\n",
       "</div>"
      ],
      "text/plain": [
       "                Dates  SPXT Index  RLG Index\n",
       "Dates                                       \n",
       "2009-12-31 2009-12-31     1837.50    500.223\n",
       "2010-01-01 2010-01-01     1837.50    500.223\n",
       "2010-04-01 2010-04-01     1867.06    507.029\n",
       "2010-05-01 2010-05-01     1872.90    507.288\n",
       "2010-06-01 2010-06-01     1874.73    506.825"
      ]
     },
     "execution_count": 45,
     "metadata": {},
     "output_type": "execute_result"
    }
   ],
   "source": [
    "dados_2.head()"
   ]
  },
  {
   "cell_type": "code",
   "execution_count": 48,
   "metadata": {},
   "outputs": [],
   "source": [
    "dados_2.drop(['Dates'], axis = 1, inplace = True)"
   ]
  },
  {
   "cell_type": "code",
   "execution_count": 49,
   "metadata": {},
   "outputs": [
    {
     "data": {
      "text/html": [
       "<div>\n",
       "<style scoped>\n",
       "    .dataframe tbody tr th:only-of-type {\n",
       "        vertical-align: middle;\n",
       "    }\n",
       "\n",
       "    .dataframe tbody tr th {\n",
       "        vertical-align: top;\n",
       "    }\n",
       "\n",
       "    .dataframe thead th {\n",
       "        text-align: right;\n",
       "    }\n",
       "</style>\n",
       "<table border=\"1\" class=\"dataframe\">\n",
       "  <thead>\n",
       "    <tr style=\"text-align: right;\">\n",
       "      <th></th>\n",
       "      <th>SPXT Index</th>\n",
       "      <th>RLG Index</th>\n",
       "    </tr>\n",
       "    <tr>\n",
       "      <th>Dates</th>\n",
       "      <th></th>\n",
       "      <th></th>\n",
       "    </tr>\n",
       "  </thead>\n",
       "  <tbody>\n",
       "    <tr>\n",
       "      <th>2009-12-31</th>\n",
       "      <td>1837.50</td>\n",
       "      <td>500.223</td>\n",
       "    </tr>\n",
       "    <tr>\n",
       "      <th>2010-01-01</th>\n",
       "      <td>1837.50</td>\n",
       "      <td>500.223</td>\n",
       "    </tr>\n",
       "    <tr>\n",
       "      <th>2010-04-01</th>\n",
       "      <td>1867.06</td>\n",
       "      <td>507.029</td>\n",
       "    </tr>\n",
       "    <tr>\n",
       "      <th>2010-05-01</th>\n",
       "      <td>1872.90</td>\n",
       "      <td>507.288</td>\n",
       "    </tr>\n",
       "    <tr>\n",
       "      <th>2010-06-01</th>\n",
       "      <td>1874.73</td>\n",
       "      <td>506.825</td>\n",
       "    </tr>\n",
       "  </tbody>\n",
       "</table>\n",
       "</div>"
      ],
      "text/plain": [
       "            SPXT Index  RLG Index\n",
       "Dates                            \n",
       "2009-12-31     1837.50    500.223\n",
       "2010-01-01     1837.50    500.223\n",
       "2010-04-01     1867.06    507.029\n",
       "2010-05-01     1872.90    507.288\n",
       "2010-06-01     1874.73    506.825"
      ]
     },
     "execution_count": 49,
     "metadata": {},
     "output_type": "execute_result"
    }
   ],
   "source": [
    "dados_2.head()"
   ]
  },
  {
   "cell_type": "code",
   "execution_count": 50,
   "metadata": {},
   "outputs": [
    {
     "data": {
      "image/png": "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\n",
      "text/plain": [
       "<Figure size 432x288 with 1 Axes>"
      ]
     },
     "metadata": {
      "needs_background": "light"
     },
     "output_type": "display_data"
    }
   ],
   "source": [
    "dados_2.plot();"
   ]
  },
  {
   "cell_type": "markdown",
   "metadata": {},
   "source": [
    "## 1.2. Abrindo o .xlsx"
   ]
  },
  {
   "cell_type": "code",
   "execution_count": 51,
   "metadata": {},
   "outputs": [],
   "source": [
    "dados_3 = pd.read_excel('Indices US (.xlsx).xlsx')"
   ]
  },
  {
   "cell_type": "code",
   "execution_count": 52,
   "metadata": {},
   "outputs": [
    {
     "data": {
      "text/html": [
       "<div>\n",
       "<style scoped>\n",
       "    .dataframe tbody tr th:only-of-type {\n",
       "        vertical-align: middle;\n",
       "    }\n",
       "\n",
       "    .dataframe tbody tr th {\n",
       "        vertical-align: top;\n",
       "    }\n",
       "\n",
       "    .dataframe thead th {\n",
       "        text-align: right;\n",
       "    }\n",
       "</style>\n",
       "<table border=\"1\" class=\"dataframe\">\n",
       "  <thead>\n",
       "    <tr style=\"text-align: right;\">\n",
       "      <th></th>\n",
       "      <th>Dates</th>\n",
       "      <th>S&amp;P 500 Total Return</th>\n",
       "      <th>Russell 1000 Growth Total Return</th>\n",
       "    </tr>\n",
       "  </thead>\n",
       "  <tbody>\n",
       "    <tr>\n",
       "      <th>0</th>\n",
       "      <td>2009-12-31</td>\n",
       "      <td>1837.50</td>\n",
       "      <td>424.385</td>\n",
       "    </tr>\n",
       "    <tr>\n",
       "      <th>1</th>\n",
       "      <td>2010-01-01</td>\n",
       "      <td>1837.50</td>\n",
       "      <td>424.385</td>\n",
       "    </tr>\n",
       "    <tr>\n",
       "      <th>2</th>\n",
       "      <td>2010-01-04</td>\n",
       "      <td>1867.06</td>\n",
       "      <td>430.163</td>\n",
       "    </tr>\n",
       "    <tr>\n",
       "      <th>3</th>\n",
       "      <td>2010-01-05</td>\n",
       "      <td>1872.90</td>\n",
       "      <td>430.386</td>\n",
       "    </tr>\n",
       "    <tr>\n",
       "      <th>4</th>\n",
       "      <td>2010-01-06</td>\n",
       "      <td>1874.73</td>\n",
       "      <td>430.026</td>\n",
       "    </tr>\n",
       "  </tbody>\n",
       "</table>\n",
       "</div>"
      ],
      "text/plain": [
       "       Dates  S&P 500 Total Return  Russell 1000 Growth Total Return\n",
       "0 2009-12-31               1837.50                           424.385\n",
       "1 2010-01-01               1837.50                           424.385\n",
       "2 2010-01-04               1867.06                           430.163\n",
       "3 2010-01-05               1872.90                           430.386\n",
       "4 2010-01-06               1874.73                           430.026"
      ]
     },
     "execution_count": 52,
     "metadata": {},
     "output_type": "execute_result"
    }
   ],
   "source": [
    "dados_3.head()"
   ]
  },
  {
   "cell_type": "code",
   "execution_count": 37,
   "metadata": {},
   "outputs": [
    {
     "data": {
      "text/plain": [
       "Dates                               datetime64[ns]\n",
       "S&P 500 Total Return                       float64\n",
       "Russell 1000 Growth Total Return           float64\n",
       "dtype: object"
      ]
     },
     "execution_count": 37,
     "metadata": {},
     "output_type": "execute_result"
    }
   ],
   "source": [
    "dados_3.dtypes"
   ]
  },
  {
   "cell_type": "code",
   "execution_count": 53,
   "metadata": {},
   "outputs": [],
   "source": [
    "dados_3.index = dados_3.Dates"
   ]
  },
  {
   "cell_type": "code",
   "execution_count": 55,
   "metadata": {},
   "outputs": [
    {
     "data": {
      "text/html": [
       "<div>\n",
       "<style scoped>\n",
       "    .dataframe tbody tr th:only-of-type {\n",
       "        vertical-align: middle;\n",
       "    }\n",
       "\n",
       "    .dataframe tbody tr th {\n",
       "        vertical-align: top;\n",
       "    }\n",
       "\n",
       "    .dataframe thead th {\n",
       "        text-align: right;\n",
       "    }\n",
       "</style>\n",
       "<table border=\"1\" class=\"dataframe\">\n",
       "  <thead>\n",
       "    <tr style=\"text-align: right;\">\n",
       "      <th></th>\n",
       "      <th>Dates</th>\n",
       "      <th>S&amp;P 500 Total Return</th>\n",
       "      <th>Russell 1000 Growth Total Return</th>\n",
       "    </tr>\n",
       "    <tr>\n",
       "      <th>Dates</th>\n",
       "      <th></th>\n",
       "      <th></th>\n",
       "      <th></th>\n",
       "    </tr>\n",
       "  </thead>\n",
       "  <tbody>\n",
       "    <tr>\n",
       "      <th>2009-12-31</th>\n",
       "      <td>2009-12-31</td>\n",
       "      <td>1837.50</td>\n",
       "      <td>424.385</td>\n",
       "    </tr>\n",
       "    <tr>\n",
       "      <th>2010-01-01</th>\n",
       "      <td>2010-01-01</td>\n",
       "      <td>1837.50</td>\n",
       "      <td>424.385</td>\n",
       "    </tr>\n",
       "    <tr>\n",
       "      <th>2010-01-04</th>\n",
       "      <td>2010-01-04</td>\n",
       "      <td>1867.06</td>\n",
       "      <td>430.163</td>\n",
       "    </tr>\n",
       "    <tr>\n",
       "      <th>2010-01-05</th>\n",
       "      <td>2010-01-05</td>\n",
       "      <td>1872.90</td>\n",
       "      <td>430.386</td>\n",
       "    </tr>\n",
       "    <tr>\n",
       "      <th>2010-01-06</th>\n",
       "      <td>2010-01-06</td>\n",
       "      <td>1874.73</td>\n",
       "      <td>430.026</td>\n",
       "    </tr>\n",
       "  </tbody>\n",
       "</table>\n",
       "</div>"
      ],
      "text/plain": [
       "                Dates  S&P 500 Total Return  Russell 1000 Growth Total Return\n",
       "Dates                                                                        \n",
       "2009-12-31 2009-12-31               1837.50                           424.385\n",
       "2010-01-01 2010-01-01               1837.50                           424.385\n",
       "2010-01-04 2010-01-04               1867.06                           430.163\n",
       "2010-01-05 2010-01-05               1872.90                           430.386\n",
       "2010-01-06 2010-01-06               1874.73                           430.026"
      ]
     },
     "execution_count": 55,
     "metadata": {},
     "output_type": "execute_result"
    }
   ],
   "source": [
    "dados_3.head()"
   ]
  },
  {
   "cell_type": "code",
   "execution_count": 56,
   "metadata": {},
   "outputs": [],
   "source": [
    "dados_3.drop(['Dates'], axis = 1, inplace = True)"
   ]
  },
  {
   "cell_type": "code",
   "execution_count": 57,
   "metadata": {},
   "outputs": [
    {
     "data": {
      "text/html": [
       "<div>\n",
       "<style scoped>\n",
       "    .dataframe tbody tr th:only-of-type {\n",
       "        vertical-align: middle;\n",
       "    }\n",
       "\n",
       "    .dataframe tbody tr th {\n",
       "        vertical-align: top;\n",
       "    }\n",
       "\n",
       "    .dataframe thead th {\n",
       "        text-align: right;\n",
       "    }\n",
       "</style>\n",
       "<table border=\"1\" class=\"dataframe\">\n",
       "  <thead>\n",
       "    <tr style=\"text-align: right;\">\n",
       "      <th></th>\n",
       "      <th>S&amp;P 500 Total Return</th>\n",
       "      <th>Russell 1000 Growth Total Return</th>\n",
       "    </tr>\n",
       "    <tr>\n",
       "      <th>Dates</th>\n",
       "      <th></th>\n",
       "      <th></th>\n",
       "    </tr>\n",
       "  </thead>\n",
       "  <tbody>\n",
       "    <tr>\n",
       "      <th>2009-12-31</th>\n",
       "      <td>1837.50</td>\n",
       "      <td>424.385</td>\n",
       "    </tr>\n",
       "    <tr>\n",
       "      <th>2010-01-01</th>\n",
       "      <td>1837.50</td>\n",
       "      <td>424.385</td>\n",
       "    </tr>\n",
       "    <tr>\n",
       "      <th>2010-01-04</th>\n",
       "      <td>1867.06</td>\n",
       "      <td>430.163</td>\n",
       "    </tr>\n",
       "    <tr>\n",
       "      <th>2010-01-05</th>\n",
       "      <td>1872.90</td>\n",
       "      <td>430.386</td>\n",
       "    </tr>\n",
       "    <tr>\n",
       "      <th>2010-01-06</th>\n",
       "      <td>1874.73</td>\n",
       "      <td>430.026</td>\n",
       "    </tr>\n",
       "  </tbody>\n",
       "</table>\n",
       "</div>"
      ],
      "text/plain": [
       "            S&P 500 Total Return  Russell 1000 Growth Total Return\n",
       "Dates                                                             \n",
       "2009-12-31               1837.50                           424.385\n",
       "2010-01-01               1837.50                           424.385\n",
       "2010-01-04               1867.06                           430.163\n",
       "2010-01-05               1872.90                           430.386\n",
       "2010-01-06               1874.73                           430.026"
      ]
     },
     "execution_count": 57,
     "metadata": {},
     "output_type": "execute_result"
    }
   ],
   "source": [
    "dados_3.head()"
   ]
  },
  {
   "cell_type": "code",
   "execution_count": 58,
   "metadata": {},
   "outputs": [
    {
     "data": {
      "image/png": "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\n",
      "text/plain": [
       "<Figure size 432x288 with 1 Axes>"
      ]
     },
     "metadata": {
      "needs_background": "light"
     },
     "output_type": "display_data"
    }
   ],
   "source": [
    "dados_3.plot();"
   ]
  },
  {
   "cell_type": "markdown",
   "metadata": {},
   "source": [
    "# 2. Normalização"
   ]
  },
  {
   "cell_type": "markdown",
   "metadata": {},
   "source": [
    "Precisamos colocar os índices na mesma base para conseguir comparar seus desempenhos"
   ]
  },
  {
   "cell_type": "code",
   "execution_count": 62,
   "metadata": {},
   "outputs": [
    {
     "data": {
      "text/html": [
       "<div>\n",
       "<style scoped>\n",
       "    .dataframe tbody tr th:only-of-type {\n",
       "        vertical-align: middle;\n",
       "    }\n",
       "\n",
       "    .dataframe tbody tr th {\n",
       "        vertical-align: top;\n",
       "    }\n",
       "\n",
       "    .dataframe thead th {\n",
       "        text-align: right;\n",
       "    }\n",
       "</style>\n",
       "<table border=\"1\" class=\"dataframe\">\n",
       "  <thead>\n",
       "    <tr style=\"text-align: right;\">\n",
       "      <th></th>\n",
       "      <th>S&amp;P 500 Total Return</th>\n",
       "      <th>Russell 1000 Growth Total Return</th>\n",
       "    </tr>\n",
       "    <tr>\n",
       "      <th>Dates</th>\n",
       "      <th></th>\n",
       "      <th></th>\n",
       "    </tr>\n",
       "  </thead>\n",
       "  <tbody>\n",
       "    <tr>\n",
       "      <th>2009-12-31</th>\n",
       "      <td>1837.5</td>\n",
       "      <td>424.385</td>\n",
       "    </tr>\n",
       "  </tbody>\n",
       "</table>\n",
       "</div>"
      ],
      "text/plain": [
       "            S&P 500 Total Return  Russell 1000 Growth Total Return\n",
       "Dates                                                             \n",
       "2009-12-31                1837.5                           424.385"
      ]
     },
     "execution_count": 62,
     "metadata": {},
     "output_type": "execute_result"
    }
   ],
   "source": [
    "dados_3.head(1)"
   ]
  },
  {
   "cell_type": "code",
   "execution_count": 64,
   "metadata": {},
   "outputs": [
    {
     "data": {
      "text/html": [
       "<div>\n",
       "<style scoped>\n",
       "    .dataframe tbody tr th:only-of-type {\n",
       "        vertical-align: middle;\n",
       "    }\n",
       "\n",
       "    .dataframe tbody tr th {\n",
       "        vertical-align: top;\n",
       "    }\n",
       "\n",
       "    .dataframe thead th {\n",
       "        text-align: right;\n",
       "    }\n",
       "</style>\n",
       "<table border=\"1\" class=\"dataframe\">\n",
       "  <thead>\n",
       "    <tr style=\"text-align: right;\">\n",
       "      <th></th>\n",
       "      <th>S&amp;P 500 Total Return</th>\n",
       "      <th>Russell 1000 Growth Total Return</th>\n",
       "    </tr>\n",
       "    <tr>\n",
       "      <th>Dates</th>\n",
       "      <th></th>\n",
       "      <th></th>\n",
       "    </tr>\n",
       "  </thead>\n",
       "  <tbody>\n",
       "    <tr>\n",
       "      <th>2009-12-31</th>\n",
       "      <td>1837.50</td>\n",
       "      <td>424.385</td>\n",
       "    </tr>\n",
       "    <tr>\n",
       "      <th>2010-01-01</th>\n",
       "      <td>1837.50</td>\n",
       "      <td>424.385</td>\n",
       "    </tr>\n",
       "    <tr>\n",
       "      <th>2010-01-04</th>\n",
       "      <td>1867.06</td>\n",
       "      <td>430.163</td>\n",
       "    </tr>\n",
       "    <tr>\n",
       "      <th>2010-01-05</th>\n",
       "      <td>1872.90</td>\n",
       "      <td>430.386</td>\n",
       "    </tr>\n",
       "    <tr>\n",
       "      <th>2010-01-06</th>\n",
       "      <td>1874.73</td>\n",
       "      <td>430.026</td>\n",
       "    </tr>\n",
       "    <tr>\n",
       "      <th>2010-01-07</th>\n",
       "      <td>1882.34</td>\n",
       "      <td>430.334</td>\n",
       "    </tr>\n",
       "    <tr>\n",
       "      <th>2010-01-08</th>\n",
       "      <td>1887.77</td>\n",
       "      <td>432.146</td>\n",
       "    </tr>\n",
       "    <tr>\n",
       "      <th>2010-01-11</th>\n",
       "      <td>1891.06</td>\n",
       "      <td>432.357</td>\n",
       "    </tr>\n",
       "    <tr>\n",
       "      <th>2010-01-12</th>\n",
       "      <td>1873.32</td>\n",
       "      <td>428.980</td>\n",
       "    </tr>\n",
       "    <tr>\n",
       "      <th>2010-01-13</th>\n",
       "      <td>1889.10</td>\n",
       "      <td>432.695</td>\n",
       "    </tr>\n",
       "  </tbody>\n",
       "</table>\n",
       "</div>"
      ],
      "text/plain": [
       "            S&P 500 Total Return  Russell 1000 Growth Total Return\n",
       "Dates                                                             \n",
       "2009-12-31               1837.50                           424.385\n",
       "2010-01-01               1837.50                           424.385\n",
       "2010-01-04               1867.06                           430.163\n",
       "2010-01-05               1872.90                           430.386\n",
       "2010-01-06               1874.73                           430.026\n",
       "2010-01-07               1882.34                           430.334\n",
       "2010-01-08               1887.77                           432.146\n",
       "2010-01-11               1891.06                           432.357\n",
       "2010-01-12               1873.32                           428.980\n",
       "2010-01-13               1889.10                           432.695"
      ]
     },
     "execution_count": 64,
     "metadata": {},
     "output_type": "execute_result"
    }
   ],
   "source": [
    "dados_3.head(10)"
   ]
  },
  {
   "cell_type": "code",
   "execution_count": 65,
   "metadata": {},
   "outputs": [
    {
     "data": {
      "text/plain": [
       "S&P 500 Total Return                1872.900\n",
       "Russell 1000 Growth Total Return     430.386\n",
       "Name: 2010-01-05 00:00:00, dtype: float64"
      ]
     },
     "execution_count": 65,
     "metadata": {},
     "output_type": "execute_result"
    }
   ],
   "source": [
    "dados_3.iloc[3]"
   ]
  },
  {
   "cell_type": "code",
   "execution_count": 70,
   "metadata": {},
   "outputs": [
    {
     "data": {
      "text/html": [
       "<div>\n",
       "<style scoped>\n",
       "    .dataframe tbody tr th:only-of-type {\n",
       "        vertical-align: middle;\n",
       "    }\n",
       "\n",
       "    .dataframe tbody tr th {\n",
       "        vertical-align: top;\n",
       "    }\n",
       "\n",
       "    .dataframe thead th {\n",
       "        text-align: right;\n",
       "    }\n",
       "</style>\n",
       "<table border=\"1\" class=\"dataframe\">\n",
       "  <thead>\n",
       "    <tr style=\"text-align: right;\">\n",
       "      <th></th>\n",
       "      <th>S&amp;P 500 Total Return</th>\n",
       "      <th>Russell 1000 Growth Total Return</th>\n",
       "    </tr>\n",
       "    <tr>\n",
       "      <th>Dates</th>\n",
       "      <th></th>\n",
       "      <th></th>\n",
       "    </tr>\n",
       "  </thead>\n",
       "  <tbody>\n",
       "    <tr>\n",
       "      <th>2010-01-07</th>\n",
       "      <td>1882.34</td>\n",
       "      <td>430.334</td>\n",
       "    </tr>\n",
       "    <tr>\n",
       "      <th>2010-01-08</th>\n",
       "      <td>1887.77</td>\n",
       "      <td>432.146</td>\n",
       "    </tr>\n",
       "    <tr>\n",
       "      <th>2010-01-11</th>\n",
       "      <td>1891.06</td>\n",
       "      <td>432.357</td>\n",
       "    </tr>\n",
       "    <tr>\n",
       "      <th>2010-01-12</th>\n",
       "      <td>1873.32</td>\n",
       "      <td>428.980</td>\n",
       "    </tr>\n",
       "    <tr>\n",
       "      <th>2010-01-13</th>\n",
       "      <td>1889.10</td>\n",
       "      <td>432.695</td>\n",
       "    </tr>\n",
       "    <tr>\n",
       "      <th>...</th>\n",
       "      <td>...</td>\n",
       "      <td>...</td>\n",
       "    </tr>\n",
       "    <tr>\n",
       "      <th>2021-10-25</th>\n",
       "      <td>9541.99</td>\n",
       "      <td>2956.577</td>\n",
       "    </tr>\n",
       "    <tr>\n",
       "      <th>2021-10-26</th>\n",
       "      <td>9559.39</td>\n",
       "      <td>2961.666</td>\n",
       "    </tr>\n",
       "    <tr>\n",
       "      <th>2021-10-27</th>\n",
       "      <td>9511.27</td>\n",
       "      <td>2961.548</td>\n",
       "    </tr>\n",
       "    <tr>\n",
       "      <th>2021-10-28</th>\n",
       "      <td>9605.23</td>\n",
       "      <td>2994.976</td>\n",
       "    </tr>\n",
       "    <tr>\n",
       "      <th>2021-10-29</th>\n",
       "      <td>9605.23</td>\n",
       "      <td>3009.848</td>\n",
       "    </tr>\n",
       "  </tbody>\n",
       "</table>\n",
       "<p>3082 rows × 2 columns</p>\n",
       "</div>"
      ],
      "text/plain": [
       "            S&P 500 Total Return  Russell 1000 Growth Total Return\n",
       "Dates                                                             \n",
       "2010-01-07               1882.34                           430.334\n",
       "2010-01-08               1887.77                           432.146\n",
       "2010-01-11               1891.06                           432.357\n",
       "2010-01-12               1873.32                           428.980\n",
       "2010-01-13               1889.10                           432.695\n",
       "...                          ...                               ...\n",
       "2021-10-25               9541.99                          2956.577\n",
       "2021-10-26               9559.39                          2961.666\n",
       "2021-10-27               9511.27                          2961.548\n",
       "2021-10-28               9605.23                          2994.976\n",
       "2021-10-29               9605.23                          3009.848\n",
       "\n",
       "[3082 rows x 2 columns]"
      ]
     },
     "execution_count": 70,
     "metadata": {},
     "output_type": "execute_result"
    }
   ],
   "source": [
    "dados_3.loc[dados_3.index > '2010-01-06\t']"
   ]
  },
  {
   "cell_type": "code",
   "execution_count": 60,
   "metadata": {},
   "outputs": [
    {
     "data": {
      "text/plain": [
       "S&P 500 Total Return                1837.500\n",
       "Russell 1000 Growth Total Return     424.385\n",
       "Name: 2009-12-31 00:00:00, dtype: float64"
      ]
     },
     "execution_count": 60,
     "metadata": {},
     "output_type": "execute_result"
    }
   ],
   "source": [
    "dados_3.iloc[0]"
   ]
  },
  {
   "cell_type": "code",
   "execution_count": 73,
   "metadata": {},
   "outputs": [
    {
     "data": {
      "image/png": "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\n",
      "text/plain": [
       "<Figure size 432x288 with 1 Axes>"
      ]
     },
     "metadata": {
      "needs_background": "light"
     },
     "output_type": "display_data"
    }
   ],
   "source": [
    "dados_3.loc[dados_3.index > '2021-01-01'].plot();"
   ]
  },
  {
   "cell_type": "code",
   "execution_count": 74,
   "metadata": {},
   "outputs": [
    {
     "data": {
      "text/html": [
       "<div>\n",
       "<style scoped>\n",
       "    .dataframe tbody tr th:only-of-type {\n",
       "        vertical-align: middle;\n",
       "    }\n",
       "\n",
       "    .dataframe tbody tr th {\n",
       "        vertical-align: top;\n",
       "    }\n",
       "\n",
       "    .dataframe thead th {\n",
       "        text-align: right;\n",
       "    }\n",
       "</style>\n",
       "<table border=\"1\" class=\"dataframe\">\n",
       "  <thead>\n",
       "    <tr style=\"text-align: right;\">\n",
       "      <th></th>\n",
       "      <th>S&amp;P 500 Total Return</th>\n",
       "      <th>Russell 1000 Growth Total Return</th>\n",
       "    </tr>\n",
       "    <tr>\n",
       "      <th>Dates</th>\n",
       "      <th></th>\n",
       "      <th></th>\n",
       "    </tr>\n",
       "  </thead>\n",
       "  <tbody>\n",
       "    <tr>\n",
       "      <th>2009-12-31</th>\n",
       "      <td>1837.50</td>\n",
       "      <td>424.385</td>\n",
       "    </tr>\n",
       "    <tr>\n",
       "      <th>2010-01-01</th>\n",
       "      <td>1837.50</td>\n",
       "      <td>424.385</td>\n",
       "    </tr>\n",
       "    <tr>\n",
       "      <th>2010-01-04</th>\n",
       "      <td>1867.06</td>\n",
       "      <td>430.163</td>\n",
       "    </tr>\n",
       "    <tr>\n",
       "      <th>2010-01-05</th>\n",
       "      <td>1872.90</td>\n",
       "      <td>430.386</td>\n",
       "    </tr>\n",
       "    <tr>\n",
       "      <th>2010-01-06</th>\n",
       "      <td>1874.73</td>\n",
       "      <td>430.026</td>\n",
       "    </tr>\n",
       "  </tbody>\n",
       "</table>\n",
       "</div>"
      ],
      "text/plain": [
       "            S&P 500 Total Return  Russell 1000 Growth Total Return\n",
       "Dates                                                             \n",
       "2009-12-31               1837.50                           424.385\n",
       "2010-01-01               1837.50                           424.385\n",
       "2010-01-04               1867.06                           430.163\n",
       "2010-01-05               1872.90                           430.386\n",
       "2010-01-06               1874.73                           430.026"
      ]
     },
     "execution_count": 74,
     "metadata": {},
     "output_type": "execute_result"
    }
   ],
   "source": [
    "dados_3.head()"
   ]
  },
  {
   "cell_type": "code",
   "execution_count": 76,
   "metadata": {},
   "outputs": [],
   "source": [
    "dados_4 = dados_3/dados_3.iloc[0]"
   ]
  },
  {
   "cell_type": "code",
   "execution_count": 77,
   "metadata": {},
   "outputs": [
    {
     "data": {
      "text/html": [
       "<div>\n",
       "<style scoped>\n",
       "    .dataframe tbody tr th:only-of-type {\n",
       "        vertical-align: middle;\n",
       "    }\n",
       "\n",
       "    .dataframe tbody tr th {\n",
       "        vertical-align: top;\n",
       "    }\n",
       "\n",
       "    .dataframe thead th {\n",
       "        text-align: right;\n",
       "    }\n",
       "</style>\n",
       "<table border=\"1\" class=\"dataframe\">\n",
       "  <thead>\n",
       "    <tr style=\"text-align: right;\">\n",
       "      <th></th>\n",
       "      <th>S&amp;P 500 Total Return</th>\n",
       "      <th>Russell 1000 Growth Total Return</th>\n",
       "    </tr>\n",
       "    <tr>\n",
       "      <th>Dates</th>\n",
       "      <th></th>\n",
       "      <th></th>\n",
       "    </tr>\n",
       "  </thead>\n",
       "  <tbody>\n",
       "    <tr>\n",
       "      <th>2009-12-31</th>\n",
       "      <td>1.000000</td>\n",
       "      <td>1.000000</td>\n",
       "    </tr>\n",
       "    <tr>\n",
       "      <th>2010-01-01</th>\n",
       "      <td>1.000000</td>\n",
       "      <td>1.000000</td>\n",
       "    </tr>\n",
       "    <tr>\n",
       "      <th>2010-01-04</th>\n",
       "      <td>1.016087</td>\n",
       "      <td>1.013615</td>\n",
       "    </tr>\n",
       "    <tr>\n",
       "      <th>2010-01-05</th>\n",
       "      <td>1.019265</td>\n",
       "      <td>1.014140</td>\n",
       "    </tr>\n",
       "    <tr>\n",
       "      <th>2010-01-06</th>\n",
       "      <td>1.020261</td>\n",
       "      <td>1.013292</td>\n",
       "    </tr>\n",
       "  </tbody>\n",
       "</table>\n",
       "</div>"
      ],
      "text/plain": [
       "            S&P 500 Total Return  Russell 1000 Growth Total Return\n",
       "Dates                                                             \n",
       "2009-12-31              1.000000                          1.000000\n",
       "2010-01-01              1.000000                          1.000000\n",
       "2010-01-04              1.016087                          1.013615\n",
       "2010-01-05              1.019265                          1.014140\n",
       "2010-01-06              1.020261                          1.013292"
      ]
     },
     "execution_count": 77,
     "metadata": {},
     "output_type": "execute_result"
    }
   ],
   "source": [
    "dados_4.head()"
   ]
  },
  {
   "cell_type": "code",
   "execution_count": 79,
   "metadata": {},
   "outputs": [
    {
     "data": {
      "image/png": "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\n",
      "text/plain": [
       "<Figure size 432x288 with 1 Axes>"
      ]
     },
     "metadata": {
      "needs_background": "light"
     },
     "output_type": "display_data"
    }
   ],
   "source": [
    "dados_4.plot();"
   ]
  },
  {
   "cell_type": "code",
   "execution_count": 80,
   "metadata": {},
   "outputs": [],
   "source": [
    "dados_3['month'] = pd.DatetimeIndex(dados_3.index).month"
   ]
  },
  {
   "cell_type": "code",
   "execution_count": 81,
   "metadata": {},
   "outputs": [
    {
     "data": {
      "text/html": [
       "<div>\n",
       "<style scoped>\n",
       "    .dataframe tbody tr th:only-of-type {\n",
       "        vertical-align: middle;\n",
       "    }\n",
       "\n",
       "    .dataframe tbody tr th {\n",
       "        vertical-align: top;\n",
       "    }\n",
       "\n",
       "    .dataframe thead th {\n",
       "        text-align: right;\n",
       "    }\n",
       "</style>\n",
       "<table border=\"1\" class=\"dataframe\">\n",
       "  <thead>\n",
       "    <tr style=\"text-align: right;\">\n",
       "      <th></th>\n",
       "      <th>S&amp;P 500 Total Return</th>\n",
       "      <th>Russell 1000 Growth Total Return</th>\n",
       "      <th>month</th>\n",
       "    </tr>\n",
       "    <tr>\n",
       "      <th>Dates</th>\n",
       "      <th></th>\n",
       "      <th></th>\n",
       "      <th></th>\n",
       "    </tr>\n",
       "  </thead>\n",
       "  <tbody>\n",
       "    <tr>\n",
       "      <th>2009-12-31</th>\n",
       "      <td>1837.50</td>\n",
       "      <td>424.385</td>\n",
       "      <td>12</td>\n",
       "    </tr>\n",
       "    <tr>\n",
       "      <th>2010-01-01</th>\n",
       "      <td>1837.50</td>\n",
       "      <td>424.385</td>\n",
       "      <td>1</td>\n",
       "    </tr>\n",
       "    <tr>\n",
       "      <th>2010-01-04</th>\n",
       "      <td>1867.06</td>\n",
       "      <td>430.163</td>\n",
       "      <td>1</td>\n",
       "    </tr>\n",
       "    <tr>\n",
       "      <th>2010-01-05</th>\n",
       "      <td>1872.90</td>\n",
       "      <td>430.386</td>\n",
       "      <td>1</td>\n",
       "    </tr>\n",
       "    <tr>\n",
       "      <th>2010-01-06</th>\n",
       "      <td>1874.73</td>\n",
       "      <td>430.026</td>\n",
       "      <td>1</td>\n",
       "    </tr>\n",
       "  </tbody>\n",
       "</table>\n",
       "</div>"
      ],
      "text/plain": [
       "            S&P 500 Total Return  Russell 1000 Growth Total Return  month\n",
       "Dates                                                                    \n",
       "2009-12-31               1837.50                           424.385     12\n",
       "2010-01-01               1837.50                           424.385      1\n",
       "2010-01-04               1867.06                           430.163      1\n",
       "2010-01-05               1872.90                           430.386      1\n",
       "2010-01-06               1874.73                           430.026      1"
      ]
     },
     "execution_count": 81,
     "metadata": {},
     "output_type": "execute_result"
    }
   ],
   "source": [
    "dados_3.head()"
   ]
  },
  {
   "cell_type": "code",
   "execution_count": null,
   "metadata": {},
   "outputs": [],
   "source": []
  }
 ],
 "metadata": {
  "kernelspec": {
   "display_name": "Python 3",
   "language": "python",
   "name": "python3"
  },
  "language_info": {
   "codemirror_mode": {
    "name": "ipython",
    "version": 3
   },
   "file_extension": ".py",
   "mimetype": "text/x-python",
   "name": "python",
   "nbconvert_exporter": "python",
   "pygments_lexer": "ipython3",
   "version": "3.8.5"
  }
 },
 "nbformat": 4,
 "nbformat_minor": 4
}
